{
 "cells": [
  {
   "cell_type": "markdown",
   "metadata": {},
   "source": [
    "# Titanic Project"
   ]
  },
  {
   "cell_type": "markdown",
   "metadata": {},
   "source": [
    "Thanks for ideas and codes to \n",
    "https://www.kaggle.com/mrisdal/exploring-survival-on-the-titanic\n",
    "https://www.kaggle.com/mukultiwari/titanic-top-14-with-random-forest\n",
    "http://trevorstephens.com/kaggle-titanic-tutorial/getting-started-with-r/\n",
    "https://www.r-bloggers.com/how-to-perform-a-logistic-regression-in-r/"
   ]
  },
  {
   "cell_type": "code",
   "execution_count": 125,
   "metadata": {
    "collapsed": false
   },
   "outputs": [],
   "source": [
    "# Load packages\n",
    "library('ggplot2') # visualization\n",
    "library('Amelia') #visulaization\n",
    "library('scales') # visualization\n",
    "library('dplyr') # data manipulation\n",
    "library('mice') # imputation\n",
    "library('randomForest') # classification algorithm\n"
   ]
  },
  {
   "cell_type": "code",
   "execution_count": 126,
   "metadata": {
    "collapsed": false
   },
   "outputs": [],
   "source": [
    "train<-read.csv(\"Data/train.csv\",stringsAsFactors = F)\n",
    "test<-read.csv(\"Data/test.csv\",stringsAsFactors = F)\n",
    "full<-bind_rows(train,test)"
   ]
  },
  {
   "cell_type": "code",
   "execution_count": 127,
   "metadata": {
    "collapsed": false
   },
   "outputs": [
    {
     "name": "stdout",
     "output_type": "stream",
     "text": [
      "Example of Data"
     ]
    },
    {
     "data": {
      "text/html": [
       "<table>\n",
       "<thead><tr><th scope=col>PassengerId</th><th scope=col>Survived</th><th scope=col>Pclass</th><th scope=col>Name</th><th scope=col>Sex</th><th scope=col>Age</th><th scope=col>SibSp</th><th scope=col>Parch</th><th scope=col>Ticket</th><th scope=col>Fare</th><th scope=col>Cabin</th><th scope=col>Embarked</th></tr></thead>\n",
       "<tbody>\n",
       "\t<tr><td>1                                                  </td><td>0                                                  </td><td>3                                                  </td><td>Braund, Mr. Owen Harris                            </td><td>male                                               </td><td>22                                                 </td><td>1                                                  </td><td>0                                                  </td><td>A/5 21171                                          </td><td> 7.2500                                            </td><td>                                                   </td><td>S                                                  </td></tr>\n",
       "\t<tr><td>2                                                  </td><td>1                                                  </td><td>1                                                  </td><td>Cumings, Mrs. John Bradley (Florence Briggs Thayer)</td><td>female                                             </td><td>38                                                 </td><td>1                                                  </td><td>0                                                  </td><td>PC 17599                                           </td><td>71.2833                                            </td><td>C85                                                </td><td>C                                                  </td></tr>\n",
       "\t<tr><td>3                                                  </td><td>1                                                  </td><td>3                                                  </td><td>Heikkinen, Miss. Laina                             </td><td>female                                             </td><td>26                                                 </td><td>0                                                  </td><td>0                                                  </td><td>STON/O2. 3101282                                   </td><td> 7.9250                                            </td><td>                                                   </td><td>S                                                  </td></tr>\n",
       "\t<tr><td>4                                                  </td><td>1                                                  </td><td>1                                                  </td><td>Futrelle, Mrs. Jacques Heath (Lily May Peel)       </td><td>female                                             </td><td>35                                                 </td><td>1                                                  </td><td>0                                                  </td><td>113803                                             </td><td>53.1000                                            </td><td>C123                                               </td><td>S                                                  </td></tr>\n",
       "\t<tr><td>5                                                  </td><td>0                                                  </td><td>3                                                  </td><td>Allen, Mr. William Henry                           </td><td>male                                               </td><td>35                                                 </td><td>0                                                  </td><td>0                                                  </td><td>373450                                             </td><td> 8.0500                                            </td><td>                                                   </td><td>S                                                  </td></tr>\n",
       "\t<tr><td>6                                                  </td><td>0                                                  </td><td>3                                                  </td><td>Moran, Mr. James                                   </td><td>male                                               </td><td>NA                                                 </td><td>0                                                  </td><td>0                                                  </td><td>330877                                             </td><td> 8.4583                                            </td><td>                                                   </td><td>Q                                                  </td></tr>\n",
       "</tbody>\n",
       "</table>\n"
      ],
      "text/latex": [
       "\\begin{tabular}{r|llllllllllll}\n",
       " PassengerId & Survived & Pclass & Name & Sex & Age & SibSp & Parch & Ticket & Fare & Cabin & Embarked\\\\\n",
       "\\hline\n",
       "\t 1                                                   & 0                                                   & 3                                                   & Braund, Mr. Owen Harris                             & male                                                & 22                                                  & 1                                                   & 0                                                   & A/5 21171                                           &  7.2500                                             &                                                     & S                                                  \\\\\n",
       "\t 2                                                   & 1                                                   & 1                                                   & Cumings, Mrs. John Bradley (Florence Briggs Thayer) & female                                              & 38                                                  & 1                                                   & 0                                                   & PC 17599                                            & 71.2833                                             & C85                                                 & C                                                  \\\\\n",
       "\t 3                                                   & 1                                                   & 3                                                   & Heikkinen, Miss. Laina                              & female                                              & 26                                                  & 0                                                   & 0                                                   & STON/O2. 3101282                                    &  7.9250                                             &                                                     & S                                                  \\\\\n",
       "\t 4                                                   & 1                                                   & 1                                                   & Futrelle, Mrs. Jacques Heath (Lily May Peel)        & female                                              & 35                                                  & 1                                                   & 0                                                   & 113803                                              & 53.1000                                             & C123                                                & S                                                  \\\\\n",
       "\t 5                                                   & 0                                                   & 3                                                   & Allen, Mr. William Henry                            & male                                                & 35                                                  & 0                                                   & 0                                                   & 373450                                              &  8.0500                                             &                                                     & S                                                  \\\\\n",
       "\t 6                                                   & 0                                                   & 3                                                   & Moran, Mr. James                                    & male                                                & NA                                                  & 0                                                   & 0                                                   & 330877                                              &  8.4583                                             &                                                     & Q                                                  \\\\\n",
       "\\end{tabular}\n"
      ],
      "text/markdown": [
       "\n",
       "PassengerId | Survived | Pclass | Name | Sex | Age | SibSp | Parch | Ticket | Fare | Cabin | Embarked | \n",
       "|---|---|---|---|---|---|\n",
       "| 1                                                   | 0                                                   | 3                                                   | Braund, Mr. Owen Harris                             | male                                                | 22                                                  | 1                                                   | 0                                                   | A/5 21171                                           |  7.2500                                             |                                                     | S                                                   | \n",
       "| 2                                                   | 1                                                   | 1                                                   | Cumings, Mrs. John Bradley (Florence Briggs Thayer) | female                                              | 38                                                  | 1                                                   | 0                                                   | PC 17599                                            | 71.2833                                             | C85                                                 | C                                                   | \n",
       "| 3                                                   | 1                                                   | 3                                                   | Heikkinen, Miss. Laina                              | female                                              | 26                                                  | 0                                                   | 0                                                   | STON/O2. 3101282                                    |  7.9250                                             |                                                     | S                                                   | \n",
       "| 4                                                   | 1                                                   | 1                                                   | Futrelle, Mrs. Jacques Heath (Lily May Peel)        | female                                              | 35                                                  | 1                                                   | 0                                                   | 113803                                              | 53.1000                                             | C123                                                | S                                                   | \n",
       "| 5                                                   | 0                                                   | 3                                                   | Allen, Mr. William Henry                            | male                                                | 35                                                  | 0                                                   | 0                                                   | 373450                                              |  8.0500                                             |                                                     | S                                                   | \n",
       "| 6                                                   | 0                                                   | 3                                                   | Moran, Mr. James                                    | male                                                | NA                                                  | 0                                                   | 0                                                   | 330877                                              |  8.4583                                             |                                                     | Q                                                   | \n",
       "\n",
       "\n"
      ],
      "text/plain": [
       "  PassengerId Survived Pclass\n",
       "1 1           0        3     \n",
       "2 2           1        1     \n",
       "3 3           1        3     \n",
       "4 4           1        1     \n",
       "5 5           0        3     \n",
       "6 6           0        3     \n",
       "  Name                                                Sex    Age SibSp Parch\n",
       "1 Braund, Mr. Owen Harris                             male   22  1     0    \n",
       "2 Cumings, Mrs. John Bradley (Florence Briggs Thayer) female 38  1     0    \n",
       "3 Heikkinen, Miss. Laina                              female 26  0     0    \n",
       "4 Futrelle, Mrs. Jacques Heath (Lily May Peel)        female 35  1     0    \n",
       "5 Allen, Mr. William Henry                            male   35  0     0    \n",
       "6 Moran, Mr. James                                    male   NA  0     0    \n",
       "  Ticket           Fare    Cabin Embarked\n",
       "1 A/5 21171         7.2500       S       \n",
       "2 PC 17599         71.2833 C85   C       \n",
       "3 STON/O2. 3101282  7.9250       S       \n",
       "4 113803           53.1000 C123  S       \n",
       "5 373450            8.0500       S       \n",
       "6 330877            8.4583       Q       "
      ]
     },
     "metadata": {},
     "output_type": "display_data"
    }
   ],
   "source": [
    "cat('Example of Data')\n",
    "head(full)"
   ]
  },
  {
   "cell_type": "code",
   "execution_count": 128,
   "metadata": {
    "collapsed": false
   },
   "outputs": [
    {
     "data": {
      "image/png": "[encoded data removed]",
      "text/plain": [
       "Plot with title \"Missingness Map Full\""
      ]
     },
     "metadata": {},
     "output_type": "display_data"
    }
   ],
   "source": [
    "#replace missing values with NA\n",
    "full[full == '']<-NA\n",
    "\n",
    "par(mfrow=c(1,1))\n",
    "missmap(full, main = \"Missingness Map Full\")"
   ]
  },
  {
   "cell_type": "code",
   "execution_count": 129,
   "metadata": {
    "collapsed": false
   },
   "outputs": [
    {
     "data": {
      "text/plain": [
       "\n",
       "        Capt          Col          Don         Dona           Dr     Jonkheer \n",
       "           1            4            1            1            8            1 \n",
       "        Lady        Major       Master         Miss         Mlle          Mme \n",
       "           1            2           61          260            2            1 \n",
       "          Mr          Mrs           Ms          Rev          Sir the Countess \n",
       "         757          197            2            8            1            1 "
      ]
     },
     "metadata": {},
     "output_type": "display_data"
    }
   ],
   "source": [
    "#substring different parts of name\n",
    "full$Lname<-sub(\"([' A-Za-z0-9]+).*\",\"\\\\1\",full$Name)\n",
    "full$Title<-gsub(\"(.*, )|(\\\\..*)\", \"\", full$Name)\n",
    "full$lenName <- round(sapply(full$Name,nchar)/10)\n",
    "table(full$Title)"
   ]
  },
  {
   "cell_type": "code",
   "execution_count": 130,
   "metadata": {
    "collapsed": false
   },
   "outputs": [
    {
     "data": {
      "text/plain": [
       "        \n",
       "         Leader_Title Master Miss  Mr Mrs Noble_Title\n",
       "  female            1      0  264   0 199           2\n",
       "  male             14     61    0 758   0          10"
      ]
     },
     "metadata": {},
     "output_type": "display_data"
    }
   ],
   "source": [
    "# title with leader roles\n",
    "leader_title <-c('Capt','Col','Dr','Major')\n",
    "noble_title <-c('Jonkheer','Lady','Sir','the Countess','Rev')\n",
    "\n",
    "# Also reassign mlle, ms, and mme accordingly\n",
    "full$Title[full$Title == 'Mlle'] <- 'Miss' \n",
    "full$Title[full$Title == 'Ms']  <- 'Miss'\n",
    "full$Title[full$Title %in% c('Mme', 'Dona')]  <- 'Mrs'\n",
    "full$Title[full$Title == 'Don']  <- 'Mr'\n",
    "full$Title[full$Title %in% leader_title]  <- 'Leader_Title'\n",
    "full$Title[full$Title %in% noble_title]  <- 'Noble_Title'\n",
    "\n",
    "table(full$Sex, full$Title)"
   ]
  },
  {
   "cell_type": "code",
   "execution_count": 131,
   "metadata": {
    "collapsed": false
   },
   "outputs": [
    {
     "data": {
      "text/plain": [
       "\n",
       "female   male \n",
       "   314    577 "
      ]
     },
     "metadata": {},
     "output_type": "display_data"
    },
    {
     "data": {
      "text/plain": [
       "        \n",
       "                 0         1\n",
       "  female 0.2579618 0.7420382\n",
       "  male   0.8110919 0.1889081"
      ]
     },
     "metadata": {},
     "output_type": "display_data"
    }
   ],
   "source": [
    "#prob of survied vs gender\n",
    "table(train$Sex)\n",
    "prop.table(table(train$Sex, train$Survived),margin=1)"
   ]
  },
  {
   "cell_type": "code",
   "execution_count": 132,
   "metadata": {
    "collapsed": false
   },
   "outputs": [
    {
     "name": "stdout",
     "output_type": "stream",
     "text": [
      "Ticket Length VS Survived"
     ]
    },
    {
     "data": {
      "text/plain": [
       "    \n",
       "             0         1\n",
       "  3  1.0000000 0.0000000\n",
       "  4  0.6336634 0.3663366\n",
       "  5  0.3816794 0.6183206\n",
       "  6  0.6801909 0.3198091\n",
       "  7  0.7037037 0.2962963\n",
       "  8  0.4605263 0.5394737\n",
       "  9  0.8076923 0.1923077\n",
       "  10 0.6585366 0.3414634\n",
       "  11 0.7500000 0.2500000\n",
       "  12 0.6000000 0.4000000\n",
       "  13 0.6000000 0.4000000\n",
       "  15 0.6666667 0.3333333\n",
       "  16 0.7272727 0.2727273\n",
       "  17 0.5714286 0.4285714\n",
       "  18 1.0000000 0.0000000"
      ]
     },
     "metadata": {},
     "output_type": "display_data"
    },
    {
     "name": "stdout",
     "output_type": "stream",
     "text": [
      "Ticket Type VS Survived"
     ]
    },
    {
     "data": {
      "text/plain": [
       "   \n",
       "             0          1\n",
       "  1 0.36986301 0.63013699\n",
       "  2 0.53551913 0.46448087\n",
       "  3 0.76079734 0.23920266\n",
       "  4 0.80000000 0.20000000\n",
       "  5 1.00000000 0.00000000\n",
       "  6 0.83333333 0.16666667\n",
       "  7 0.88888889 0.11111111\n",
       "  8 1.00000000 0.00000000\n",
       "  9 0.00000000 1.00000000\n",
       "  A 0.93103448 0.06896552\n",
       "  C 0.65957447 0.34042553\n",
       "  F 0.42857143 0.57142857\n",
       "  L 0.75000000 0.25000000\n",
       "  P 0.35384615 0.64615385\n",
       "  S 0.67692308 0.32307692\n",
       "  W 0.84615385 0.15384615"
      ]
     },
     "metadata": {},
     "output_type": "display_data"
    }
   ],
   "source": [
    "#Ticket length\n",
    "full$ticketLen <- sapply(full$Ticket,nchar)\n",
    "#First Character as ticket types\n",
    "full$ticketType <- substring(full$Ticket,1,1)\n",
    "\n",
    "cat('Ticket Length VS Survived')\n",
    "prop.table(table(full$ticketLen,full$Survived),margin = 1)\n",
    "cat('Ticket Type VS Survived')\n",
    "prop.table(table(full$ticketType,full$Survived),margin = 1)"
   ]
  },
  {
   "cell_type": "code",
   "execution_count": 133,
   "metadata": {
    "collapsed": false
   },
   "outputs": [
    {
     "data": {},
     "metadata": {},
     "output_type": "display_data"
    },
    {
     "name": "stdout",
     "output_type": "stream",
     "text": [
      "Family Size VS Survival"
     ]
    },
    {
     "data": {
      "text/plain": [
       "       \n",
       "          0   1\n",
       "  large  52  10\n",
       "  one   374 163\n",
       "  small 123 169"
      ]
     },
     "metadata": {},
     "output_type": "display_data"
    },
    {
     "data": {
      "image/png": "[encoded data removed]",
      "text/plain": [
       "plot without title"
      ]
     },
     "metadata": {},
     "output_type": "display_data"
    }
   ],
   "source": [
    "# Create a family size variable including the passenger themselves\n",
    "full$Famsize <- full$SibSp + full$Parch + 1\n",
    "\n",
    "# family size\n",
    "full$FamsizeBin[full$Famsize == 1] <- 'one'\n",
    "full$FamsizeBin[full$Famsize < 5 & full$Famsize > 1] <- 'small'\n",
    "full$FamsizeBin[full$Famsize > 4] <- 'large'\n",
    "\n",
    "# Use ggplot2 to visualize the relationship between family size & survival\n",
    "ggplot(full[1:891,], aes(x = FamsizeBin, fill = factor(Survived))) +\n",
    "  geom_bar(aes(y = (..count..)), stat='count', position='fill') +\n",
    "  labs(x = 'Family Size') +\n",
    "  scale_y_continuous(labels = percent) +\n",
    "  labs(title=\"Relationship between family size & survival\", y= 'Percent')\n",
    "\n",
    "cat('Family Size VS Survival')\n",
    "table(full$FamsizeBin,full$Survived)"
   ]
  },
  {
   "cell_type": "code",
   "execution_count": 134,
   "metadata": {
    "collapsed": false
   },
   "outputs": [
    {
     "name": "stdout",
     "output_type": "stream",
     "text": [
      "Rows where Embarked missing"
     ]
    },
    {
     "data": {
      "text/html": [
       "<table>\n",
       "<thead><tr><th></th><th scope=col>PassengerId</th><th scope=col>Survived</th><th scope=col>Pclass</th><th scope=col>Name</th><th scope=col>Sex</th><th scope=col>Age</th><th scope=col>SibSp</th><th scope=col>Parch</th><th scope=col>Ticket</th><th scope=col>Fare</th><th scope=col>Cabin</th><th scope=col>Embarked</th><th scope=col>Lname</th><th scope=col>Title</th><th scope=col>lenName</th><th scope=col>ticketLen</th><th scope=col>ticketType</th><th scope=col>Famsize</th><th scope=col>FamsizeBin</th><th scope=col>hasCabin</th></tr></thead>\n",
       "<tbody>\n",
       "\t<tr><th scope=row>62</th><td> 62                                      </td><td>1                                        </td><td>1                                        </td><td>Icard, Miss. Amelie                      </td><td>female                                   </td><td>38                                       </td><td>0                                        </td><td>0                                        </td><td>113572                                   </td><td>80                                       </td><td>B28                                      </td><td>NA                                       </td><td>Icard                                    </td><td>Miss                                     </td><td>2                                        </td><td>6                                        </td><td>1                                        </td><td>1                                        </td><td>one                                      </td><td>TRUE                                     </td></tr>\n",
       "\t<tr><th scope=row>830</th><td>830                                      </td><td>1                                        </td><td>1                                        </td><td>Stone, Mrs. George Nelson (Martha Evelyn)</td><td>female                                   </td><td>62                                       </td><td>0                                        </td><td>0                                        </td><td>113572                                   </td><td>80                                       </td><td>B28                                      </td><td>NA                                       </td><td>Stone                                    </td><td>Mrs                                      </td><td>4                                        </td><td>6                                        </td><td>1                                        </td><td>1                                        </td><td>one                                      </td><td>TRUE                                     </td></tr>\n",
       "</tbody>\n",
       "</table>\n"
      ],
      "text/latex": [
       "\\begin{tabular}{r|llllllllllllllllllll}\n",
       "  & PassengerId & Survived & Pclass & Name & Sex & Age & SibSp & Parch & Ticket & Fare & Cabin & Embarked & Lname & Title & lenName & ticketLen & ticketType & Famsize & FamsizeBin & hasCabin\\\\\n",
       "\\hline\n",
       "\t62 &  62                                       & 1                                         & 1                                         & Icard, Miss. Amelie                       & female                                    & 38                                        & 0                                         & 0                                         & 113572                                    & 80                                        & B28                                       & NA                                        & Icard                                     & Miss                                      & 2                                         & 6                                         & 1                                         & 1                                         & one                                       & TRUE                                     \\\\\n",
       "\t830 & 830                                       & 1                                         & 1                                         & Stone, Mrs. George Nelson (Martha Evelyn) & female                                    & 62                                        & 0                                         & 0                                         & 113572                                    & 80                                        & B28                                       & NA                                        & Stone                                     & Mrs                                       & 4                                         & 6                                         & 1                                         & 1                                         & one                                       & TRUE                                     \\\\\n",
       "\\end{tabular}\n"
      ],
      "text/markdown": [
       "\n",
       "| <!--/--> | PassengerId | Survived | Pclass | Name | Sex | Age | SibSp | Parch | Ticket | Fare | Cabin | Embarked | Lname | Title | lenName | ticketLen | ticketType | Famsize | FamsizeBin | hasCabin | \n",
       "|---|---|\n",
       "| 62 |  62                                       | 1                                         | 1                                         | Icard, Miss. Amelie                       | female                                    | 38                                        | 0                                         | 0                                         | 113572                                    | 80                                        | B28                                       | NA                                        | Icard                                     | Miss                                      | 2                                         | 6                                         | 1                                         | 1                                         | one                                       | TRUE                                      | \n",
       "| 830 | 830                                       | 1                                         | 1                                         | Stone, Mrs. George Nelson (Martha Evelyn) | female                                    | 62                                        | 0                                         | 0                                         | 113572                                    | 80                                        | B28                                       | NA                                        | Stone                                     | Mrs                                       | 4                                         | 6                                         | 1                                         | 1                                         | one                                       | TRUE                                      | \n",
       "\n",
       "\n"
      ],
      "text/plain": [
       "    PassengerId Survived Pclass Name                                     \n",
       "62   62         1        1      Icard, Miss. Amelie                      \n",
       "830 830         1        1      Stone, Mrs. George Nelson (Martha Evelyn)\n",
       "    Sex    Age SibSp Parch Ticket Fare Cabin Embarked Lname Title lenName\n",
       "62  female 38  0     0     113572 80   B28   NA       Icard Miss  2      \n",
       "830 female 62  0     0     113572 80   B28   NA       Stone Mrs   4      \n",
       "    ticketLen ticketType Famsize FamsizeBin hasCabin\n",
       "62  6         1          1       one        TRUE    \n",
       "830 6         1          1       one        TRUE    "
      ]
     },
     "metadata": {},
     "output_type": "display_data"
    }
   ],
   "source": [
    "#categorize if cabin available\n",
    "full$hasCabin <- !is.na(full$Cabin)*1\n",
    "\n",
    "embark_fare <-full %>% filter(!is.na(full$Embarked))\n",
    "cat('Rows where Embarked missing')\n",
    "head(full[is.na(full$Embarked),])\n"
   ]
  },
  {
   "cell_type": "code",
   "execution_count": 135,
   "metadata": {
    "collapsed": false
   },
   "outputs": [
    {
     "name": "stderr",
     "output_type": "stream",
     "text": [
      "Warning message:\n",
      "\"Removed 1 rows containing non-finite values (stat_boxplot).\""
     ]
    },
    {
     "data": {},
     "metadata": {},
     "output_type": "display_data"
    },
    {
     "data": {
      "image/png": "[encoded data removed]",
      "text/plain": [
       "plot without title"
      ]
     },
     "metadata": {},
     "output_type": "display_data"
    }
   ],
   "source": [
    "\n",
    "# Use ggplot2 to visualize embarkment, passenger class, & median fare\n",
    "# warning 1 missing value on Fare\n",
    "ggplot(embark_fare, aes(x = Embarked, y = Fare, fill = factor(Pclass))) +\n",
    "  geom_boxplot() +\n",
    "  geom_hline(aes(yintercept=80), \n",
    "             colour='red', linetype='dashed', lwd=2) +\n",
    "  scale_y_continuous(labels=dollar_format()) +\n",
    "  ggtitle(\"Fare VS Embarked group by PClass\")\n",
    "\n",
    "#from graph impute missing embark with C\n",
    "full$Embarked[is.na(full$Embarked)] <- 'C'"
   ]
  },
  {
   "cell_type": "code",
   "execution_count": 136,
   "metadata": {
    "collapsed": false
   },
   "outputs": [
    {
     "name": "stdout",
     "output_type": "stream",
     "text": [
      "Rows with missing fare"
     ]
    },
    {
     "data": {
      "text/html": [
       "<table>\n",
       "<thead><tr><th></th><th scope=col>PassengerId</th><th scope=col>Survived</th><th scope=col>Pclass</th><th scope=col>Name</th><th scope=col>Sex</th><th scope=col>Age</th><th scope=col>SibSp</th><th scope=col>Parch</th><th scope=col>Ticket</th><th scope=col>Fare</th><th scope=col>Cabin</th><th scope=col>Embarked</th><th scope=col>Lname</th><th scope=col>Title</th><th scope=col>lenName</th><th scope=col>ticketLen</th><th scope=col>ticketType</th><th scope=col>Famsize</th><th scope=col>FamsizeBin</th><th scope=col>hasCabin</th></tr></thead>\n",
       "<tbody>\n",
       "\t<tr><th scope=row>1044</th><td>1044              </td><td>NA                </td><td>3                 </td><td>Storey, Mr. Thomas</td><td>male              </td><td>60.5              </td><td>0                 </td><td>0                 </td><td>3701              </td><td>NA                </td><td>NA                </td><td>S                 </td><td>Storey            </td><td>Mr                </td><td>2                 </td><td>4                 </td><td>3                 </td><td>1                 </td><td>one               </td><td>FALSE             </td></tr>\n",
       "</tbody>\n",
       "</table>\n"
      ],
      "text/latex": [
       "\\begin{tabular}{r|llllllllllllllllllll}\n",
       "  & PassengerId & Survived & Pclass & Name & Sex & Age & SibSp & Parch & Ticket & Fare & Cabin & Embarked & Lname & Title & lenName & ticketLen & ticketType & Famsize & FamsizeBin & hasCabin\\\\\n",
       "\\hline\n",
       "\t1044 & 1044               & NA                 & 3                  & Storey, Mr. Thomas & male               & 60.5               & 0                  & 0                  & 3701               & NA                 & NA                 & S                  & Storey             & Mr                 & 2                  & 4                  & 3                  & 1                  & one                & FALSE             \\\\\n",
       "\\end{tabular}\n"
      ],
      "text/markdown": [
       "\n",
       "| <!--/--> | PassengerId | Survived | Pclass | Name | Sex | Age | SibSp | Parch | Ticket | Fare | Cabin | Embarked | Lname | Title | lenName | ticketLen | ticketType | Famsize | FamsizeBin | hasCabin | \n",
       "|---|\n",
       "| 1044 | 1044               | NA                 | 3                  | Storey, Mr. Thomas | male               | 60.5               | 0                  | 0                  | 3701               | NA                 | NA                 | S                  | Storey             | Mr                 | 2                  | 4                  | 3                  | 1                  | one                | FALSE              | \n",
       "\n",
       "\n"
      ],
      "text/plain": [
       "     PassengerId Survived Pclass Name               Sex  Age  SibSp Parch\n",
       "1044 1044        NA       3      Storey, Mr. Thomas male 60.5 0     0    \n",
       "     Ticket Fare Cabin Embarked Lname  Title lenName ticketLen ticketType\n",
       "1044 3701   NA   NA    S        Storey Mr    2       4         3         \n",
       "     Famsize FamsizeBin hasCabin\n",
       "1044 1       one        FALSE   "
      ]
     },
     "metadata": {},
     "output_type": "display_data"
    },
    {
     "name": "stderr",
     "output_type": "stream",
     "text": [
      "Warning message:\n",
      "\"Removed 1 rows containing non-finite values (stat_density).\""
     ]
    },
    {
     "data": {},
     "metadata": {},
     "output_type": "display_data"
    },
    {
     "data": {
      "image/png": "[encoded data removed]",
      "text/plain": [
       "plot without title"
      ]
     },
     "metadata": {},
     "output_type": "display_data"
    }
   ],
   "source": [
    "#impute missing Fare\n",
    "cat('Rows with missing fare')\n",
    "full[is.na(full$Fare),]\n",
    "\n",
    "ggplot(full[full$Pclass == '3' & full$Embarked == 'S', ], \n",
    "       aes(x = Fare)) +\n",
    "  geom_density(fill = 'light blue') + \n",
    "  geom_vline(aes(xintercept=median(Fare, na.rm=T)),\n",
    "             colour='red', linetype='dashed', lwd=1) +\n",
    "  scale_x_continuous(labels=dollar_format()) +\n",
    "  theme_few()\n",
    "\n",
    "# Replace missing fare value with median fare for class/embarkment\n",
    "full$Fare[full$Pclass == '3' & full$Embarked == 'S' & is.na(full$Fare)] <- median(full[full$Pclass == '3' & full$Embarked == 'S', ]$Fare, na.rm = TRUE)\n",
    "\n",
    "#categorize fare by bin\n",
    "full$FareBin <- ceiling(full$Fare/20)"
   ]
  },
  {
   "cell_type": "code",
   "execution_count": 137,
   "metadata": {
    "collapsed": false
   },
   "outputs": [
    {
     "data": {
      "text/html": [
       "0.200916730328495"
      ],
      "text/latex": [
       "0.200916730328495"
      ],
      "text/markdown": [
       "0.200916730328495"
      ],
      "text/plain": [
       "[1] 0.2009167"
      ]
     },
     "metadata": {},
     "output_type": "display_data"
    },
    {
     "name": "stdout",
     "output_type": "stream",
     "text": [
      "\n",
      " iter imp variable\n",
      "  1   1  Age\n",
      "  1   2  Age\n",
      "  1   3  Age\n",
      "  1   4  Age\n",
      "  1   5  Age\n",
      "  2   1  Age\n",
      "  2   2  Age\n",
      "  2   3  Age\n",
      "  2   4  Age\n",
      "  2   5  Age\n",
      "  3   1  Age\n",
      "  3   2  Age\n",
      "  3   3  Age\n",
      "  3   4  Age\n",
      "  3   5  Age\n",
      "  4   1  Age\n",
      "  4   2  Age\n",
      "  4   3  Age\n",
      "  4   4  Age\n",
      "  4   5  Age\n",
      "  5   1  Age\n",
      "  5   2  Age\n",
      "  5   3  Age\n",
      "  5   4  Age\n",
      "  5   5  Age\n"
     ]
    },
    {
     "data": {
      "image/png": "[encoded data removed]",
      "text/plain": [
       "Plot with title \"Age: MICE Output\""
      ]
     },
     "metadata": {},
     "output_type": "display_data"
    }
   ],
   "source": [
    "#impute age\n",
    "mean(is.na(full$Age))\n",
    "\n",
    "factor_vars <- c('PassengerId','Pclass','Sex','Embarked',\n",
    "                 'Title','ticketLen','ticketType','FamsizeBin','FareBin','hasCabin')\n",
    "\n",
    "full[factor_vars] <- lapply(full[factor_vars], function(x) as.factor(x))\n",
    "\n",
    "\n",
    "# Perform mice imputation, excluding variables may not useful for age prediction:\n",
    "mice_mod <- mice(full[, !names(full) %in% c('PassengerId','Name','Ticket','ticketLen','ticketType','Cabin','Lname','Fsize','Family','Survived')], method='rf') \n",
    "mice_output <- complete(mice_mod)\n",
    "\n",
    "par(mfrow=c(1,2))\n",
    "hist(full$Age, freq=F, main='Age: Original Data', \n",
    "     col='darkgreen', ylim=c(0,0.04))\n",
    "hist(mice_output$Age, freq=F, main='Age: MICE Output', \n",
    "     col='lightgreen', ylim=c(0,0.04))\n",
    "\n",
    "# Replace Age variable from the mice model.\n",
    "full$Age <- mice_output$Age"
   ]
  },
  {
   "cell_type": "code",
   "execution_count": 138,
   "metadata": {
    "collapsed": false
   },
   "outputs": [],
   "source": [
    "#child, adult\n",
    "full$Child<-0\n",
    "full$Child[full$Age < 18] <- 1\n"
   ]
  },
  {
   "cell_type": "code",
   "execution_count": 144,
   "metadata": {
    "collapsed": false
   },
   "outputs": [
    {
     "data": {
      "text/html": [
       "<table>\n",
       "<thead><tr><th></th><th scope=col>0</th><th scope=col>1</th><th scope=col>class.error</th></tr></thead>\n",
       "<tbody>\n",
       "\t<tr><th scope=row>0</th><td>489      </td><td> 60      </td><td>0.1092896</td></tr>\n",
       "\t<tr><th scope=row>1</th><td> 86      </td><td>256      </td><td>0.2514620</td></tr>\n",
       "</tbody>\n",
       "</table>\n"
      ],
      "text/latex": [
       "\\begin{tabular}{r|lll}\n",
       "  & 0 & 1 & class.error\\\\\n",
       "\\hline\n",
       "\t0 & 489       &  60       & 0.1092896\\\\\n",
       "\t1 &  86       & 256       & 0.2514620\\\\\n",
       "\\end{tabular}\n"
      ],
      "text/markdown": [
       "\n",
       "| <!--/--> | 0 | 1 | class.error | \n",
       "|---|---|\n",
       "| 0 | 489       |  60       | 0.1092896 | \n",
       "| 1 |  86       | 256       | 0.2514620 | \n",
       "\n",
       "\n"
      ],
      "text/plain": [
       "  0   1   class.error\n",
       "0 489  60 0.1092896  \n",
       "1  86 256 0.2514620  "
      ]
     },
     "metadata": {},
     "output_type": "display_data"
    },
    {
     "name": "stdout",
     "output_type": "stream",
     "text": [
      "model2"
     ]
    },
    {
     "data": {
      "image/png": "[encoded data removed]",
      "text/plain": [
       "Plot with title \"rf_model2\""
      ]
     },
     "metadata": {},
     "output_type": "display_data"
    }
   ],
   "source": [
    "# Split the data back into a train set and a test set\n",
    "train <- full[1:891,]\n",
    "test <- full[892:1309,]\n",
    "\n",
    "\n",
    "set.seed(754)\n",
    "\n",
    "# Build the model (note: not all possible variables are used)\n",
    "rf_model2 <- randomForest(factor(Survived) ~ Pclass + Sex + Age + SibSp + Parch + Embarked + Title + ticketLen +ticketType +\n",
    "                           FamsizeBin + Fare + hasCabin + Child,\n",
    "                         data = train)\n",
    "\n",
    "rf_model2$confusion\n",
    "\n",
    "cat('model2')\n",
    "wrong_pred<-train[rf_model2$predicted != train$Survived,]\n",
    "\n",
    "# Show model error\n",
    "par(mfrow=c(1,1))\n",
    "plot(rf_model2, ylim=c(0,0.36))\n",
    "legend('topright', colnames(rf_model2$err.rate), col=1:3, fill=1:3)"
   ]
  },
  {
   "cell_type": "code",
   "execution_count": 145,
   "metadata": {
    "collapsed": false
   },
   "outputs": [
    {
     "data": {},
     "metadata": {},
     "output_type": "display_data"
    },
    {
     "data": {
      "image/png": "[encoded data removed]",
      "text/plain": [
       "plot without title"
      ]
     },
     "metadata": {},
     "output_type": "display_data"
    }
   ],
   "source": [
    "# Get importance\n",
    "importance    <- importance(rf_model2)\n",
    "varImportance <- data.frame(Variables = row.names(importance), \n",
    "                            Importance = round(importance[ ,'MeanDecreaseGini'],2))\n",
    "\n",
    "# Create a rank variable based on importance\n",
    "rankImportance <- varImportance %>%\n",
    "  mutate(Rank = paste0('#',dense_rank(desc(Importance))))\n",
    "\n",
    "# Use ggplot2 to visualize the relative importance of variables\n",
    "ggplot(rankImportance, aes(x = reorder(Variables, Importance), \n",
    "                           y = Importance, fill = Importance)) +\n",
    "  geom_bar(stat='identity') + \n",
    "  geom_text(aes(x = Variables, y = 0.5, label = Rank),\n",
    "            hjust=0, vjust=0.55, size = 4, colour = 'red') +\n",
    "  labs(x = 'Variables') +\n",
    "  coord_flip() + \n",
    "  theme_few()\n"
   ]
  },
  {
   "cell_type": "code",
   "execution_count": 143,
   "metadata": {
    "collapsed": false
   },
   "outputs": [],
   "source": [
    "# Predict using the test set\n",
    "prediction <- predict(rf_model2, test)\n",
    "\n",
    "# Save the solution to a dataframe with two columns: PassengerId and Survived (prediction)\n",
    "solution <- data.frame(PassengerID = test$PassengerId, Survived = prediction)\n",
    "\n",
    "# Write the solution to file\n",
    "write.csv(solution, file = 'Data/rf_mod_Solution3.csv', row.names = F)\n"
   ]
  },
  {
   "cell_type": "code",
   "execution_count": 146,
   "metadata": {
    "collapsed": true
   },
   "outputs": [],
   "source": [
    "#try logistic regression\n",
    "model <- glm(Survived ~Pclass + Sex + Age + SibSp + Parch + Embarked + Title + ticketLen +ticketType +\n",
    "                           FamsizeBin + Fare + hasCabin + Child\n",
    "             ,family=binomial(link='logit'),data=train)"
   ]
  },
  {
   "cell_type": "code",
   "execution_count": 147,
   "metadata": {
    "collapsed": false
   },
   "outputs": [
    {
     "data": {
      "text/plain": [
       "\n",
       "Call:\n",
       "glm(formula = Survived ~ Pclass + Sex + Age + SibSp + Parch + \n",
       "    Embarked + Title + ticketLen + ticketType + FamsizeBin + \n",
       "    Fare + hasCabin + Child, family = binomial(link = \"logit\"), \n",
       "    data = train)\n",
       "\n",
       "Deviance Residuals: \n",
       "    Min       1Q   Median       3Q      Max  \n",
       "-2.7273  -0.5455  -0.2885   0.4620   3.0300  \n",
       "\n",
       "Coefficients:\n",
       "                   Estimate Std. Error z value Pr(>|z|)    \n",
       "(Intercept)      -1.010e+00  2.125e+03   0.000 0.999621    \n",
       "Pclass2           1.828e-01  6.888e-01   0.265 0.790693    \n",
       "Pclass3          -9.847e-01  6.693e-01  -1.471 0.141236    \n",
       "Sexmale          -1.684e+01  1.353e+03  -0.012 0.990069    \n",
       "Age              -2.525e-02  1.059e-02  -2.384 0.017147 *  \n",
       "SibSp            -2.713e-01  2.465e-01  -1.101 0.270977    \n",
       "Parch            -2.497e-02  2.467e-01  -0.101 0.919358    \n",
       "EmbarkedQ         4.401e-01  5.283e-01   0.833 0.404879    \n",
       "EmbarkedS         1.078e-01  3.592e-01   0.300 0.764028    \n",
       "TitleMaster       3.555e+00  9.874e-01   3.600 0.000318 ***\n",
       "TitleMiss        -1.402e+01  1.353e+03  -0.010 0.991731    \n",
       "TitleMr          -4.165e-01  7.228e-01  -0.576 0.564439    \n",
       "TitleMrs         -1.336e+01  1.353e+03  -0.010 0.992122    \n",
       "TitleNoble_Title -7.345e-01  1.330e+00  -0.552 0.580698    \n",
       "ticketLen4        1.684e+01  1.638e+03   0.010 0.991799    \n",
       "ticketLen5        1.640e+01  1.638e+03   0.010 0.992013    \n",
       "ticketLen6        1.559e+01  1.638e+03   0.010 0.992409    \n",
       "ticketLen7        1.642e+01  1.638e+03   0.010 0.992002    \n",
       "ticketLen8        1.669e+01  1.638e+03   0.010 0.991869    \n",
       "ticketLen9        1.555e+01  1.638e+03   0.009 0.992425    \n",
       "ticketLen10       1.547e+01  1.638e+03   0.009 0.992466    \n",
       "ticketLen11       1.551e+01  1.638e+03   0.009 0.992445    \n",
       "ticketLen12       1.481e+01  1.638e+03   0.009 0.992788    \n",
       "ticketLen13       1.572e+01  1.638e+03   0.010 0.992344    \n",
       "ticketLen15       1.625e+01  1.638e+03   0.010 0.992084    \n",
       "ticketLen16       1.501e+01  1.638e+03   0.009 0.992691    \n",
       "ticketLen17       1.768e+01  1.638e+03   0.011 0.991390    \n",
       "ticketLen18       1.698e+00  1.902e+03   0.001 0.999288    \n",
       "ticketType2      -1.273e+00  5.884e-01  -2.163 0.030518 *  \n",
       "ticketType3      -1.163e+00  5.413e-01  -2.149 0.031654 *  \n",
       "ticketType4      -3.130e+00  1.073e+00  -2.917 0.003533 ** \n",
       "ticketType5      -1.636e+01  1.330e+03  -0.012 0.990188    \n",
       "ticketType6      -9.146e-02  1.298e+00  -0.070 0.943838    \n",
       "ticketType7      -3.592e+00  1.325e+00  -2.710 0.006725 ** \n",
       "ticketType8      -1.605e+01  1.694e+03  -0.009 0.992440    \n",
       "ticketType9       1.374e+01  2.400e+03   0.006 0.995432    \n",
       "ticketTypeA      -1.639e+00  1.538e+00  -1.066 0.286636    \n",
       "ticketTypeC      -8.570e-01  1.121e+00  -0.765 0.444514    \n",
       "ticketTypeF       6.807e-02  1.769e+00   0.038 0.969304    \n",
       "ticketTypeL      -4.272e-01  1.296e+00  -0.330 0.741677    \n",
       "ticketTypeP      -1.019e+00  1.334e+00  -0.764 0.445014    \n",
       "ticketTypeS      -7.190e-01  1.487e+00  -0.483 0.628808    \n",
       "ticketTypeW      -2.111e+00  1.603e+00  -1.317 0.187739    \n",
       "FamsizeBinone     2.428e+00  1.244e+00   1.952 0.050929 .  \n",
       "FamsizeBinsmall   2.239e+00  9.433e-01   2.373 0.017626 *  \n",
       "Fare              3.198e-03  2.687e-03   1.190 0.233937    \n",
       "hasCabinTRUE      5.990e-01  3.829e-01   1.564 0.117761    \n",
       "Child            -5.450e-02  4.140e-01  -0.132 0.895250    \n",
       "---\n",
       "Signif. codes:  0 '***' 0.001 '**' 0.01 '*' 0.05 '.' 0.1 ' ' 1\n",
       "\n",
       "(Dispersion parameter for binomial family taken to be 1)\n",
       "\n",
       "    Null deviance: 1186.66  on 890  degrees of freedom\n",
       "Residual deviance:  658.56  on 843  degrees of freedom\n",
       "AIC: 754.56\n",
       "\n",
       "Number of Fisher Scoring iterations: 15\n"
      ]
     },
     "metadata": {},
     "output_type": "display_data"
    }
   ],
   "source": [
    "summary(model)"
   ]
  },
  {
   "cell_type": "code",
   "execution_count": 157,
   "metadata": {
    "collapsed": false
   },
   "outputs": [],
   "source": [
    "#should have cross validation to tune models but haven't done\n",
    "fitted.results <- predict(model,newdata=test,type='response')\n",
    "fitted.results <- ifelse(fitted.results > 0.5,1,0)\n",
    "solution <- data.frame(PassengerID = test$PassengerId, Survived = fitted.results)\n",
    "write.csv(solution, file = 'Data/logisticR_mod_Solution.csv', row.names = F)"
   ]
  },
  {
   "cell_type": "markdown",
   "metadata": {},
   "source": [
    "Submitted the results\n",
    "1) Random forest got ~ 79.425\n",
    "2) Logistic Regression got ~ 78.468"
   ]
  }
 ],
 "metadata": {
  "kernelspec": {
   "display_name": "R",
   "language": "R",
   "name": "ir"
  },
  "language_info": {
   "codemirror_mode": "r",
   "file_extension": ".r",
   "mimetype": "text/x-r-source",
   "name": "R",
   "pygments_lexer": "r",
   "version": "3.4.3"
  }
 },
 "nbformat": 4,
 "nbformat_minor": 2
}
